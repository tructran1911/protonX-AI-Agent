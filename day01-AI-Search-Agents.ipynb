!pip install serpapi
!pip install google-search-results
